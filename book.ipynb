{
 "cells": [
  {
   "cell_type": "code",
   "execution_count": 2,
   "source": [
    "import numpy as np\n",
    "import pandas as pd\n",
    "from functions import preprocess, activations, losses"
   ],
   "outputs": [],
   "metadata": {}
  },
  {
   "cell_type": "code",
   "execution_count": 19,
   "source": [
    "fake_real, fake_pred = np.random.randint(0,100,2), np.random.randint(0,100,2) \n",
    "print(fake_real)\n",
    "print(fake_pred)\n",
    "losses.MSLE(fake_real, fake_pred)"
   ],
   "outputs": [
    {
     "output_type": "stream",
     "name": "stdout",
     "text": [
      "[11 53]\n",
      "[44 18]\n"
     ]
    },
    {
     "output_type": "execute_result",
     "data": {
      "text/plain": [
       "1.419056449176256"
      ]
     },
     "metadata": {},
     "execution_count": 19
    }
   ],
   "metadata": {}
  },
  {
   "cell_type": "code",
   "execution_count": 5,
   "source": [
    "((82-43)+(96-60)) /2"
   ],
   "outputs": [
    {
     "output_type": "execute_result",
     "data": {
      "text/plain": [
       "37.5"
      ]
     },
     "metadata": {},
     "execution_count": 5
    }
   ],
   "metadata": {}
  },
  {
   "cell_type": "code",
   "execution_count": 2,
   "source": [
    "df = pd.read_csv('datasets/Train.csv')\n",
    "df = df.dropna(axis=1).drop(['ID','country','population'],axis=1)"
   ],
   "outputs": [],
   "metadata": {}
  },
  {
   "cell_type": "code",
   "execution_count": 3,
   "source": [
    "df2 = preprocess.min_max(preprocess.mean_normalization(df))"
   ],
   "outputs": [],
   "metadata": {}
  },
  {
   "cell_type": "code",
   "execution_count": 4,
   "source": [
    "features = df2.loc[:,'Q1':'Q25']\n",
    "target = df2['target']\n",
    "\n",
    "X = features.values.T\n",
    "Y = target.values"
   ],
   "outputs": [],
   "metadata": {}
  },
  {
   "cell_type": "code",
   "execution_count": 5,
   "source": [
    "split = 0.8\n",
    "size = X.shape[1]\n",
    "\n",
    "X_test = X[:,int(size*split):]\n",
    "X = X[:,:int(size*split)]\n",
    "\n",
    "Y_test = Y[int(size*split):]\n",
    "Y = Y[:int(size*split)]"
   ],
   "outputs": [],
   "metadata": {}
  },
  {
   "cell_type": "code",
   "execution_count": 6,
   "source": [
    "X.shape, X_test.shape"
   ],
   "outputs": [
    {
     "output_type": "execute_result",
     "data": {
      "text/plain": [
       "((16, 83893), (16, 20974))"
      ]
     },
     "metadata": {},
     "execution_count": 6
    }
   ],
   "metadata": {}
  },
  {
   "cell_type": "markdown",
   "source": [
    "# Multi-layered Model\n",
    "<img src='images/net.png' width='500px'>"
   ],
   "metadata": {}
  },
  {
   "cell_type": "markdown",
   "source": [
    "# Modelling"
   ],
   "metadata": {}
  },
  {
   "cell_type": "code",
   "execution_count": 7,
   "source": [
    "def initiate_model(X, Y, learning_rate=0.001, hidden_layers=[10,10]):\n",
    "    \n",
    "    n_features, n_samples = X.shape\n",
    "    layers = [n_features, *hidden_layers, 1]\n",
    "    \n",
    "    model = {'learning_rate':learning_rate, 'layers':layers, 'W':{}, 'B':{}}\n",
    "\n",
    "    for layer, nodes in enumerate(layers):\n",
    "        \n",
    "        #First layer doesn't have weights & biases\n",
    "        if layer == 0:\n",
    "            pass \n",
    "        else:\n",
    "            model['W'][layer] = np.random.randn(layers[layer], layers[layer-1]) / np.sqrt(layers[layer-1])\n",
    "            model['B'][layer] = np.zeros((layers[layer], 1))\n",
    "            \n",
    "    model['Z'], model['A'] = {}, {0:X}\n",
    "\n",
    "    model['dLoss'] = {}\n",
    "    model['dLoss']['Z'], model['dLoss']['A'], model['dLoss']['W'], model['dLoss']['B'],= {}, {}, {}, {}\n",
    "            \n",
    "    return model"
   ],
   "outputs": [],
   "metadata": {}
  },
  {
   "cell_type": "code",
   "execution_count": 8,
   "source": [
    "#Calculating predictions with current weights and biases\n",
    "def forwarding(model):\n",
    "    \n",
    "    layers = model['layers']\n",
    "    \n",
    "    for layer, nodes in enumerate(layers):\n",
    "    \n",
    "        #skip input layer because it doesn't need calculations\n",
    "        if layer == 0:\n",
    "            pass \n",
    "        \n",
    "        else:\n",
    "            \n",
    "            # Mulitply output of last layer by weights (of current layer) & adding bias\n",
    "            model['Z'][layer] = (model['W'][layer]).dot(model['A'][layer-1]) + model['B'][layer]\n",
    "            \n",
    "            #Transforming value using activation function to 0 to 1 range (Last A is the y_pred)\n",
    "            model['A'][layer] = activations.sigmoid(model['Z'][layer])\n",
    "    \n",
    "    return model"
   ],
   "outputs": [],
   "metadata": {}
  },
  {
   "cell_type": "code",
   "execution_count": 9,
   "source": [
    "def backwarding(model):\n",
    "    \n",
    "    layers = model['layers']\n",
    "    learning_rate = model['learning_rate']\n",
    "    \n",
    "    #Derivative of loss funtcion\n",
    "    dLoss_Y_pred = model['dLoss']['A'][len(layers)-1] = (-Y / (y_pred+0.00001)) - ((1-Y)/(1-y_pred + 0.00001))\n",
    "    \n",
    "    #Start at last layer and update all weights and biases backwards\n",
    "    for layer in range(len(layers)-1,0,-1):\n",
    "        \n",
    "        #Prevent muliplication overflow\n",
    "        model['dLoss']['Z'][layer] = np.where(model['dLoss']['A'][layer] > 1000, 1000, model['dLoss']['A'][layer]) * np.where(activations.dSigmoid(model['A'][layer]) > 1000, 1000, activations.dSigmoid(model['Z'][layer])) #Should be Z\n",
    "        model['dLoss']['A'][layer-1] = np.dot(model['W'][layer].T, model['dLoss']['Z'][layer])\n",
    "        model['dLoss']['W'][layer] =  1 / model['A'][layer-1].shape[1] * np.dot(model['dLoss']['Z'][layer], model['A'][layer-1].T)\n",
    "        model['dLoss']['B'][layer] =  1 / model['A'][layer-1].shape[1] * np.dot(model['dLoss']['Z'][layer], np.ones([model['dLoss']['Z'][layer].shape[1], 1]))\n",
    "        \n",
    "        model['W'][layer] -= learning_rate * model['dLoss']['W'][layer]\n",
    "        model['B'][layer] -= learning_rate * model['dLoss']['B'][layer]\n",
    "        \n",
    "    return model"
   ],
   "outputs": [],
   "metadata": {}
  },
  {
   "cell_type": "code",
   "execution_count": 10,
   "source": [
    "last = 1\n",
    "logger = 1\n",
    "longer = []\n",
    "loss = 100\n",
    "model = initiate_model(X,Y,hidden_layers=[16,16],learning_rate=0.001)\n",
    "\n",
    "for _ in range(100):\n",
    "    last = loss\n",
    "    model = forwarding(model)\n",
    "    y_pred = model['A'][len(model['A'])-1]  \n",
    "    model = backwarding(model)\n",
    "    loss = losses.binary_crossentropy(model['A'][len(model['A'])-1], Y)\n",
    "    longer.append(loss)\n",
    "    print(loss)\n",
    "    if last - loss < 0.0005:\n",
    "        break\n",
    "    "
   ],
   "outputs": [
    {
     "output_type": "stream",
     "name": "stdout",
     "text": [
      "11.57492288140693\n",
      "11.572880939339878\n",
      "11.570837795570961\n",
      "11.56879345122098\n",
      "11.566747907412008\n",
      "11.564701165264719\n",
      "11.56265322590818\n",
      "11.560604090468132\n",
      "11.558553760075114\n",
      "11.556502235862906\n",
      "11.554449518964569\n",
      "11.55239561051891\n",
      "11.550340511664563\n",
      "11.548284223541366\n",
      "11.54622674729458\n",
      "11.544168084071769\n",
      "11.542108235017329\n",
      "11.540047201284237\n",
      "11.537984984023728\n",
      "11.535921584391335\n",
      "11.533857003543922\n",
      "11.531791242639738\n",
      "11.52972430283889\n",
      "11.52765618530683\n",
      "11.525586891208317\n",
      "11.523516421709878\n",
      "11.521444777983154\n",
      "11.519371961198395\n",
      "11.517297972528695\n",
      "11.515222813153006\n",
      "11.513146484245754\n",
      "11.511068986990686\n",
      "11.508990322567778\n",
      "11.506910492162675\n",
      "11.504829496959033\n",
      "11.502747338148373\n",
      "11.500664016920172\n",
      "11.498579534467373\n",
      "11.49649389198274\n",
      "11.494407090665252\n",
      "11.492319131711978\n",
      "11.490230016322927\n",
      "11.488139745701453\n",
      "11.486048321053753\n",
      "11.48395574358447\n",
      "11.481862014501868\n",
      "11.479767135016836\n",
      "11.477671106343207\n",
      "11.475573929693681\n",
      "11.473475606285074\n",
      "11.471376137335561\n",
      "11.46927552406532\n",
      "11.467173767696195\n",
      "11.465070869453712\n",
      "11.462966830560859\n",
      "11.460861652248244\n",
      "11.458755335744097\n",
      "11.4566478822799\n",
      "11.454539293089724\n",
      "11.452429569408311\n",
      "11.450318712472212\n",
      "11.448206723521507\n",
      "11.44609360379529\n",
      "11.443979354537998\n",
      "11.441863976993176\n",
      "11.439747472407047\n",
      "11.43762984202647\n",
      "11.435511087102949\n",
      "11.433391208887398\n",
      "11.431270208630828\n",
      "11.429148087592052\n",
      "11.427024847026201\n",
      "11.424900488191419\n",
      "11.422775012347548\n",
      "11.420648420757125\n",
      "11.418520714684274\n",
      "11.41639189539331\n",
      "11.414261964151812\n",
      "11.41213092222812\n",
      "11.409998770893084\n",
      "11.407865511418963\n",
      "11.405731145078805\n",
      "11.403595673147905\n",
      "11.401459096905016\n",
      "11.399321417625652\n",
      "11.397182636592186\n",
      "11.395042755086331\n",
      "11.39290177439029\n",
      "11.390759695791136\n",
      "11.388616520572764\n",
      "11.386472250025015\n",
      "11.384326885437716\n",
      "11.382180428100359\n",
      "11.380032879307812\n",
      "11.377884240352913\n",
      "11.375734512533459\n",
      "11.37358369714453\n",
      "11.371431795484954\n",
      "11.369278808856993\n",
      "11.367124738560566\n"
     ]
    }
   ],
   "metadata": {}
  },
  {
   "cell_type": "code",
   "execution_count": 11,
   "source": [
    "pd.Series(longer).plot(figsize=(20,5))"
   ],
   "outputs": [
    {
     "output_type": "execute_result",
     "data": {
      "text/plain": [
       "<AxesSubplot:>"
      ]
     },
     "metadata": {},
     "execution_count": 11
    },
    {
     "output_type": "display_data",
     "data": {
      "image/png": "[encoded data removed]",
      "text/plain": [
       "<Figure size 1440x360 with 1 Axes>"
      ]
     },
     "metadata": {
      "needs_background": "light"
     }
    }
   ],
   "metadata": {}
  },
  {
   "cell_type": "markdown",
   "source": [
    "# Evaluating"
   ],
   "metadata": {}
  },
  {
   "cell_type": "code",
   "execution_count": 12,
   "source": [
    "model['A'][0] = X_test\n",
    "model = forwarding(model)\n",
    "predictions = model['A'][3]\n",
    "print(round((np.where(predictions > 0.5, 1, 0) == Y_test).mean(),4))"
   ],
   "outputs": [
    {
     "output_type": "stream",
     "name": "stdout",
     "text": [
      "0.5814\n"
     ]
    }
   ],
   "metadata": {}
  }
 ],
 "metadata": {
  "orig_nbformat": 4,
  "language_info": {
   "name": "python",
   "version": "3.9.6",
   "mimetype": "text/x-python",
   "codemirror_mode": {
    "name": "ipython",
    "version": 3
   },
   "pygments_lexer": "ipython3",
   "nbconvert_exporter": "python",
   "file_extension": ".py"
  },
  "kernelspec": {
   "name": "python3",
   "display_name": "Python 3.9.6 64-bit"
  },
  "interpreter": {
   "hash": "4cd7ab41f5fca4b9b44701077e38c5ffd31fe66a6cab21e0214b68d958d0e462"
  }
 },
 "nbformat": 4,
 "nbformat_minor": 2
}