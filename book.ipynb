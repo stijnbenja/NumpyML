{
 "cells": [
  {
   "cell_type": "code",
   "execution_count": 98,
   "source": [
    "import numpy as np\n",
    "import pandas as pd\n",
    "from functions import preprocess, activations, losses"
   ],
   "outputs": [],
   "metadata": {}
  },
  {
   "cell_type": "code",
   "execution_count": 99,
   "source": [
    "df = pd.read_csv('datasets/Train.csv')\n",
    "df = df.dropna(axis=1).drop(['ID','country','population'],axis=1)\n",
    "df2 = preprocess.min_max(df)\n",
    "df2 = df2.iloc[:100000,:]"
   ],
   "outputs": [],
   "metadata": {}
  },
  {
   "cell_type": "code",
   "execution_count": 100,
   "source": [
    "features, target = df2.loc[:,'Q1':'Q25'], df2['target']\n",
    "\n",
    "X, Y = features.values.T, target.values\n",
    "x_train, y_train, x_test, y_test = preprocess.split(X, Y)"
   ],
   "outputs": [],
   "metadata": {}
  },
  {
   "cell_type": "markdown",
   "source": [
    "# Multi-layered Model\n",
    "<img src='images/net.png' width='500px'>"
   ],
   "metadata": {}
  },
  {
   "cell_type": "markdown",
   "source": [
    "# Modelling"
   ],
   "metadata": {}
  },
  {
   "cell_type": "code",
   "execution_count": 101,
   "source": [
    "def initiate_model(X, Y, learning_rate=0.001, hidden_layers=[10,10]):\n",
    "    \n",
    "    n_features = X.shape[0]\n",
    "    layers = [n_features, *hidden_layers, 1]\n",
    "    n_layers = len(layers)\n",
    "    \n",
    "    model = {\n",
    "        'learning_rate':learning_rate, \n",
    "        'layers':layers, \n",
    "        'Y':Y, \n",
    "        'loss':0,\n",
    "         'W':{}, 'B':{}, 'Z':{}, 'A':{0:X},\n",
    "        'dW':{},'dB':{},'dZ':{},'dA':{},\n",
    "        }\n",
    "\n",
    "    for layer in range(1, n_layers):\n",
    "        #HE initialization\n",
    "        model['W'][layer] = np.random.randn(layers[layer], layers[layer-1]) / np.sqrt(layers[layer-1])\n",
    "        model['B'][layer] = np.zeros((layers[layer], 1))\n",
    "                       \n",
    "    return model"
   ],
   "outputs": [],
   "metadata": {}
  },
  {
   "cell_type": "code",
   "execution_count": 102,
   "source": [
    "def forward_1_layer(W, A_min, B, act=activations.sigmoid):\n",
    "    \n",
    "    Z = W.dot(A_min) + B \n",
    "    A = act(Z)\n",
    "    \n",
    "    return Z, A\n",
    "\n",
    "def forwarding(model):\n",
    "\n",
    "    for i in range(1, n_layers):\n",
    "        \n",
    "        model['Z'][i], model['A'][i] = forward_1_layer(\n",
    "            W =     model['W'][i], \n",
    "            A_min = model['A'][i-1], \n",
    "            B =     model['B'][i], \n",
    "            act =   activations.sigmoid)\n",
    "     \n",
    "    model['loss'] = losses.binary_crossentropy(model['A'][final_layer_index], model['Y'])\n",
    "        \n",
    "    return model"
   ],
   "outputs": [],
   "metadata": {}
  },
  {
   "cell_type": "code",
   "execution_count": null,
   "source": [],
   "outputs": [],
   "metadata": {}
  },
  {
   "cell_type": "code",
   "execution_count": 103,
   "source": [
    "def backward_1_layer(W, A, dA, B, A_min, Z, learning_rate, actd=activations.dRelu):\n",
    "    \n",
    "    dZ = dA * Z\n",
    "    dA_min = np.dot(W.T, dZ)\n",
    "    dW = 1 / A_min.shape[1] * np.dot(dZ, A_min.T)\n",
    "    dB = 1 / A_min.shape[1] * np.dot(dZ, np.ones([dZ.shape[1], 1]))\n",
    "    \n",
    "    W = W - learning_rate * dW\n",
    "    B = B - learning_rate * dB\n",
    "\n",
    "    return dA_min, W, B\n",
    "\n",
    "\n",
    "def backwarding(model):\n",
    "\n",
    "    y_real = model['Y']\n",
    "    y_pred = model['A'][final_layer_index]\n",
    "    extra = 10e-5 #Against zero division\n",
    "    \n",
    "    model['dA'][final_layer_index] = (-y_real / (y_pred + extra)) - ((1-y_real)/(1-y_pred + extra))\n",
    "\n",
    "    for i in range(n_layers -1, 0, -1):\n",
    "\n",
    "        model['dA'][i-1], model['W'][i], model['B'][i] = backward_1_layer(\n",
    "            W = model['W'][i],\n",
    "            A = model['A'][i],\n",
    "            dA = model['dA'][i],\n",
    "            B = model['B'][i],\n",
    "            A_min = model['A'][i-1],\n",
    "            Z = model['Z'][i],\n",
    "            learning_rate=0.001\n",
    "            )\n",
    "        \n",
    "    return model"
   ],
   "outputs": [],
   "metadata": {}
  },
  {
   "cell_type": "code",
   "execution_count": 106,
   "source": [
    "model = initiate_model(x_train, y_train)\n",
    "logger = []\n",
    "\n",
    "n_layers = len(model['layers'])\n",
    "final_layer_index = n_layers - 1\n",
    "\n",
    "for i in range(10000):\n",
    "    \n",
    "    model = forwarding(model)\n",
    "    \n",
    "    if (i%100==0):\n",
    "        print(model['loss']) \n",
    "    \n",
    "    logger.append(model['loss'])    \n",
    "    model = backwarding(model)"
   ],
   "outputs": [
    {
     "output_type": "stream",
     "name": "stdout",
     "text": [
      "11.464756091803864\n",
      "11.438494884255654\n",
      "11.385850657101635\n",
      "11.280267299395904\n",
      "11.067048493586157\n",
      "10.616976221640197\n"
     ]
    },
    {
     "output_type": "stream",
     "name": "stderr",
     "text": [
      "<ipython-input-103-c4a0e6269d28>:3: RuntimeWarning: overflow encountered in multiply\n",
      "  dZ = dA * Z\n"
     ]
    },
    {
     "output_type": "stream",
     "name": "stdout",
     "text": [
      "nan\n"
     ]
    },
    {
     "output_type": "error",
     "ename": "KeyboardInterrupt",
     "evalue": "",
     "traceback": [
      "\u001b[0;31m---------------------------------------------------------------------------\u001b[0m",
      "\u001b[0;31mKeyboardInterrupt\u001b[0m                         Traceback (most recent call last)",
      "\u001b[0;32m<ipython-input-106-ad600dd0b14a>\u001b[0m in \u001b[0;36m<module>\u001b[0;34m\u001b[0m\n\u001b[1;32m      7\u001b[0m \u001b[0;32mfor\u001b[0m \u001b[0mi\u001b[0m \u001b[0;32min\u001b[0m \u001b[0mrange\u001b[0m\u001b[0;34m(\u001b[0m\u001b[0;36m10000\u001b[0m\u001b[0;34m)\u001b[0m\u001b[0;34m:\u001b[0m\u001b[0;34m\u001b[0m\u001b[0;34m\u001b[0m\u001b[0m\n\u001b[1;32m      8\u001b[0m \u001b[0;34m\u001b[0m\u001b[0m\n\u001b[0;32m----> 9\u001b[0;31m     \u001b[0mmodel\u001b[0m \u001b[0;34m=\u001b[0m \u001b[0mforwarding\u001b[0m\u001b[0;34m(\u001b[0m\u001b[0mmodel\u001b[0m\u001b[0;34m)\u001b[0m\u001b[0;34m\u001b[0m\u001b[0;34m\u001b[0m\u001b[0m\n\u001b[0m\u001b[1;32m     10\u001b[0m \u001b[0;34m\u001b[0m\u001b[0m\n\u001b[1;32m     11\u001b[0m     \u001b[0;32mif\u001b[0m \u001b[0;34m(\u001b[0m\u001b[0mi\u001b[0m\u001b[0;34m%\u001b[0m\u001b[0;36m100\u001b[0m\u001b[0;34m==\u001b[0m\u001b[0;36m0\u001b[0m\u001b[0;34m)\u001b[0m\u001b[0;34m:\u001b[0m\u001b[0;34m\u001b[0m\u001b[0;34m\u001b[0m\u001b[0m\n",
      "\u001b[0;32m<ipython-input-102-91fbd46a3369>\u001b[0m in \u001b[0;36mforwarding\u001b[0;34m(model)\u001b[0m\n\u001b[1;32m     10\u001b[0m     \u001b[0;32mfor\u001b[0m \u001b[0mi\u001b[0m \u001b[0;32min\u001b[0m \u001b[0mrange\u001b[0m\u001b[0;34m(\u001b[0m\u001b[0;36m1\u001b[0m\u001b[0;34m,\u001b[0m \u001b[0mn_layers\u001b[0m\u001b[0;34m)\u001b[0m\u001b[0;34m:\u001b[0m\u001b[0;34m\u001b[0m\u001b[0;34m\u001b[0m\u001b[0m\n\u001b[1;32m     11\u001b[0m \u001b[0;34m\u001b[0m\u001b[0m\n\u001b[0;32m---> 12\u001b[0;31m         model['Z'][i], model['A'][i] = forward_1_layer(\n\u001b[0m\u001b[1;32m     13\u001b[0m             \u001b[0mW\u001b[0m \u001b[0;34m=\u001b[0m     \u001b[0mmodel\u001b[0m\u001b[0;34m[\u001b[0m\u001b[0;34m'W'\u001b[0m\u001b[0;34m]\u001b[0m\u001b[0;34m[\u001b[0m\u001b[0mi\u001b[0m\u001b[0;34m]\u001b[0m\u001b[0;34m,\u001b[0m\u001b[0;34m\u001b[0m\u001b[0;34m\u001b[0m\u001b[0m\n\u001b[1;32m     14\u001b[0m             \u001b[0mA_min\u001b[0m \u001b[0;34m=\u001b[0m \u001b[0mmodel\u001b[0m\u001b[0;34m[\u001b[0m\u001b[0;34m'A'\u001b[0m\u001b[0;34m]\u001b[0m\u001b[0;34m[\u001b[0m\u001b[0mi\u001b[0m\u001b[0;34m-\u001b[0m\u001b[0;36m1\u001b[0m\u001b[0;34m]\u001b[0m\u001b[0;34m,\u001b[0m\u001b[0;34m\u001b[0m\u001b[0;34m\u001b[0m\u001b[0m\n",
      "\u001b[0;32m<ipython-input-102-91fbd46a3369>\u001b[0m in \u001b[0;36mforward_1_layer\u001b[0;34m(W, A_min, B, act)\u001b[0m\n\u001b[1;32m      1\u001b[0m \u001b[0;32mdef\u001b[0m \u001b[0mforward_1_layer\u001b[0m\u001b[0;34m(\u001b[0m\u001b[0mW\u001b[0m\u001b[0;34m,\u001b[0m \u001b[0mA_min\u001b[0m\u001b[0;34m,\u001b[0m \u001b[0mB\u001b[0m\u001b[0;34m,\u001b[0m \u001b[0mact\u001b[0m\u001b[0;34m=\u001b[0m\u001b[0mactivations\u001b[0m\u001b[0;34m.\u001b[0m\u001b[0msigmoid\u001b[0m\u001b[0;34m)\u001b[0m\u001b[0;34m:\u001b[0m\u001b[0;34m\u001b[0m\u001b[0;34m\u001b[0m\u001b[0m\n\u001b[1;32m      2\u001b[0m \u001b[0;34m\u001b[0m\u001b[0m\n\u001b[0;32m----> 3\u001b[0;31m     \u001b[0mZ\u001b[0m \u001b[0;34m=\u001b[0m \u001b[0mW\u001b[0m\u001b[0;34m.\u001b[0m\u001b[0mdot\u001b[0m\u001b[0;34m(\u001b[0m\u001b[0mA_min\u001b[0m\u001b[0;34m)\u001b[0m \u001b[0;34m+\u001b[0m \u001b[0mB\u001b[0m\u001b[0;34m\u001b[0m\u001b[0;34m\u001b[0m\u001b[0m\n\u001b[0m\u001b[1;32m      4\u001b[0m     \u001b[0mA\u001b[0m \u001b[0;34m=\u001b[0m \u001b[0mact\u001b[0m\u001b[0;34m(\u001b[0m\u001b[0mZ\u001b[0m\u001b[0;34m)\u001b[0m\u001b[0;34m\u001b[0m\u001b[0;34m\u001b[0m\u001b[0m\n\u001b[1;32m      5\u001b[0m \u001b[0;34m\u001b[0m\u001b[0m\n",
      "\u001b[0;31mKeyboardInterrupt\u001b[0m: "
     ]
    }
   ],
   "metadata": {}
  },
  {
   "cell_type": "code",
   "execution_count": 107,
   "source": [
    "pd.Series(logger).plot()"
   ],
   "outputs": [
    {
     "output_type": "execute_result",
     "data": {
      "text/plain": [
       "<AxesSubplot:>"
      ]
     },
     "metadata": {},
     "execution_count": 107
    },
    {
     "output_type": "display_data",
     "data": {
      "image/png": "[encoded data removed]",
      "text/plain": [
       "<Figure size 432x288 with 1 Axes>"
      ]
     },
     "metadata": {
      "needs_background": "light"
     }
    }
   ],
   "metadata": {}
  }
 ],
 "metadata": {
  "orig_nbformat": 4,
  "language_info": {
   "name": "python",
   "version": "3.9.6",
   "mimetype": "text/x-python",
   "codemirror_mode": {
    "name": "ipython",
    "version": 3
   },
   "pygments_lexer": "ipython3",
   "nbconvert_exporter": "python",
   "file_extension": ".py"
  },
  "kernelspec": {
   "name": "python3",
   "display_name": "Python 3.9.6 64-bit"
  },
  "interpreter": {
   "hash": "4cd7ab41f5fca4b9b44701077e38c5ffd31fe66a6cab21e0214b68d958d0e462"
  }
 },
 "nbformat": 4,
 "nbformat_minor": 2
}