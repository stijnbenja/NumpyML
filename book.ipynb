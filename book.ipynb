{
 "cells": [
  {
   "cell_type": "code",
   "execution_count": 320,
   "source": [
    "import numpy as np\n",
    "import pandas as pd\n",
    "from numba import njit"
   ],
   "outputs": [],
   "metadata": {}
  },
  {
   "cell_type": "markdown",
   "source": [
    "Hello"
   ],
   "metadata": {}
  },
  {
   "cell_type": "markdown",
   "source": [
    "# Functions"
   ],
   "metadata": {}
  },
  {
   "cell_type": "code",
   "execution_count": 321,
   "source": [
    "#Normalisation & standardization functions\n",
    "min_max = lambda serie: (serie - np.min(serie)) / (np.max(serie) - np.min(serie))\n",
    "mean_normalization = lambda serie: (serie - np.mean(serie)) / (np.max(serie) - np.min(serie))\n",
    "standardization = lambda serie: (serie - np.mean(serie)) / np.std(serie)\n",
    "\n",
    "def sigmoid(x):\n",
    "    big_out = np.where(x > 100, 100, x)\n",
    "    small_out = np.where(big_out < -100, -100, big_out)\n",
    "    return 1 / (1+ np.exp(-small_out))\n",
    "\n",
    "dSigmoid = lambda x: x * (1-sigmoid(x))\n",
    "\n",
    "#Loss functions\n",
    "binary_crossentropy = lambda y_real, y_pred: -np.mean(y_real * np.log(y_pred + 1e-10) + (1-y_real) * np.log(1-y_pred + 1e-10))"
   ],
   "outputs": [],
   "metadata": {}
  },
  {
   "cell_type": "code",
   "execution_count": 322,
   "source": [
    "df = pd.read_csv('Train.csv')\n",
    "df = df.dropna(axis=1).drop(['ID','country','population'],axis=1)"
   ],
   "outputs": [],
   "metadata": {}
  },
  {
   "cell_type": "code",
   "execution_count": 323,
   "source": [
    "df2 = min_max(mean_normalization(df))"
   ],
   "outputs": [],
   "metadata": {}
  },
  {
   "cell_type": "code",
   "execution_count": 324,
   "source": [
    "features = df2.loc[:,'Q1':'Q25']\n",
    "target = df2['target']\n",
    "\n",
    "X = features.values.T\n",
    "Y = target.values"
   ],
   "outputs": [],
   "metadata": {}
  },
  {
   "cell_type": "code",
   "execution_count": 325,
   "source": [
    "len(X)"
   ],
   "outputs": [
    {
     "output_type": "execute_result",
     "data": {
      "text/plain": [
       "16"
      ]
     },
     "metadata": {},
     "execution_count": 325
    }
   ],
   "metadata": {}
  },
  {
   "cell_type": "code",
   "execution_count": 326,
   "source": [
    "split = 0.8\n",
    "size = X.shape[1]\n",
    "\n",
    "X_test = X[:,int(size*split):]\n",
    "X = X[:,:int(size*split)]\n",
    "\n",
    "Y_test = Y[int(size*split):]\n",
    "Y = Y[:int(size*split)]"
   ],
   "outputs": [],
   "metadata": {}
  },
  {
   "cell_type": "code",
   "execution_count": 327,
   "source": [
    "X.shape, X_test.shape"
   ],
   "outputs": [
    {
     "output_type": "execute_result",
     "data": {
      "text/plain": [
       "((16, 83893), (16, 20974))"
      ]
     },
     "metadata": {},
     "execution_count": 327
    }
   ],
   "metadata": {}
  },
  {
   "cell_type": "markdown",
   "source": [
    "# Multi-layered Model\n",
    "<img src='net.png' width='500px'>"
   ],
   "metadata": {}
  },
  {
   "cell_type": "markdown",
   "source": [
    "# Modelling"
   ],
   "metadata": {}
  },
  {
   "cell_type": "code",
   "execution_count": 328,
   "source": [
    "def initiate_model(X, Y, learning_rate=0.001, hidden_layers=[10,10]):\n",
    "    \n",
    "    n_features, n_samples = X.shape\n",
    "    layers = [n_features, *hidden_layers, 1]\n",
    "    \n",
    "    model = {'learning_rate':learning_rate, 'layers':layers, 'W':{}, 'B':{}}\n",
    "\n",
    "    for layer, nodes in enumerate(layers):\n",
    "        \n",
    "        #First layer doesn't have weights & biases\n",
    "        if layer == 0:\n",
    "            pass \n",
    "        else:\n",
    "            model['W'][layer] = np.random.randn(layers[layer], layers[layer-1]) / np.sqrt(layers[layer-1])\n",
    "            model['B'][layer] = np.zeros((layers[layer], 1))\n",
    "            \n",
    "    model['Z'], model['A'] = {}, {0:X}\n",
    "\n",
    "    model['dLoss'] = {}\n",
    "    model['dLoss']['Z'], model['dLoss']['A'], model['dLoss']['W'], model['dLoss']['B'],= {}, {}, {}, {}\n",
    "            \n",
    "    return model"
   ],
   "outputs": [],
   "metadata": {}
  },
  {
   "cell_type": "code",
   "execution_count": 329,
   "source": [
    "#Calculating predictions with current weights and biases\n",
    "def forwarding(model):\n",
    "    \n",
    "    layers = model['layers']\n",
    "    \n",
    "    for layer, nodes in enumerate(layers):\n",
    "    \n",
    "        #skip input layer because it doesn't need calculations\n",
    "        if layer == 0:\n",
    "            pass \n",
    "        \n",
    "        else:\n",
    "            \n",
    "            # Mulitply output of last layer by weights (of current layer) & adding bias\n",
    "            model['Z'][layer] = (model['W'][layer]).dot(model['A'][layer-1]) + model['B'][layer]\n",
    "            \n",
    "            #Transforming value using activation function to 0 to 1 range (Last A is the y_pred)\n",
    "            model['A'][layer] = sigmoid(model['Z'][layer])\n",
    "    \n",
    "    return model"
   ],
   "outputs": [],
   "metadata": {}
  },
  {
   "cell_type": "code",
   "execution_count": 330,
   "source": [
    "def backwarding(model):\n",
    "    \n",
    "    layers = model['layers']\n",
    "    learning_rate = model['learning_rate']\n",
    "    \n",
    "    #Derivative of loss funtcion\n",
    "    dLoss_Y_pred = model['dLoss']['A'][len(layers)-1] = (-Y / (y_pred+0.00001)) - ((1-Y)/(1-y_pred + 0.00001))\n",
    "    \n",
    "    #Start at last layer and update all weights and biases backwards\n",
    "    for layer in range(len(layers)-1,0,-1):\n",
    "        \n",
    "        #Prevent muliplication overflow\n",
    "        model['dLoss']['Z'][layer] = np.where(model['dLoss']['A'][layer] > 1000, 1000, model['dLoss']['A'][layer]) * np.where(dSigmoid(model['A'][layer]) > 1000, 1000, dSigmoid(model['A'][layer])) #Should be Z\n",
    "        model['dLoss']['A'][layer-1] = np.dot(model['W'][layer].T, model['dLoss']['Z'][layer])\n",
    "        model['dLoss']['W'][layer] =  1 / model['A'][layer-1].shape[1] * np.dot(model['dLoss']['Z'][layer], model['A'][layer-1].T)\n",
    "        model['dLoss']['B'][layer] =  1 / model['A'][layer-1].shape[1] * np.dot(model['dLoss']['Z'][layer], np.ones([model['dLoss']['Z'][layer].shape[1], 1]))\n",
    "        \n",
    "        model['W'][layer] -= learning_rate * model['dLoss']['W'][layer]\n",
    "        model['B'][layer] -= learning_rate * model['dLoss']['B'][layer]\n",
    "        \n",
    "    return model"
   ],
   "outputs": [],
   "metadata": {}
  },
  {
   "cell_type": "code",
   "execution_count": 331,
   "source": [
    "#model['layers']"
   ],
   "outputs": [
    {
     "output_type": "execute_result",
     "data": {
      "text/plain": [
       "[16, 16, 16, 1]"
      ]
     },
     "metadata": {},
     "execution_count": 331
    }
   ],
   "metadata": {}
  },
  {
   "cell_type": "code",
   "execution_count": 337,
   "source": [
    "last = 1\n",
    "logger = 1\n",
    "longer = []\n",
    "model = initiate_model(X,Y,hidden_layers=[16,16],learning_rate=0.01)\n",
    "for _ in range(1000):\n",
    "    last = loss\n",
    "    model = forwarding(model)\n",
    "    y_pred = model['A'][len(model['A'])-1]  \n",
    "    model = backwarding(model)\n",
    "    loss = binary_crossentropy(model['A'][len(model['A'])-1], Y)\n",
    "    longer.append(loss)\n",
    "    \n",
    "    if last - loss < 0.005:\n",
    "        break\n",
    "    print(loss)"
   ],
   "outputs": [
    {
     "output_type": "stream",
     "name": "stdout",
     "text": [
      "11.623980733146714\n",
      "11.604680440667423\n",
      "11.585264844988965\n",
      "11.565734788184967\n",
      "11.546091131842445\n",
      "11.526334756599375\n",
      "11.506466561662378\n",
      "11.486487464304354\n",
      "11.466398399342166\n",
      "11.44620031859428\n",
      "11.425894190318285\n",
      "11.405480998628342\n",
      "11.3849617428924\n",
      "11.364337437109153\n",
      "11.343609109264605\n",
      "11.32277780066815\n",
      "11.30184456526799\n",
      "11.280810468945727\n",
      "11.259676588789892\n",
      "11.23844401234819\n",
      "11.217113836858116\n",
      "11.195687168455636\n",
      "11.174165121361469\n",
      "11.152548817044584\n",
      "11.130839383362297\n",
      "11.109037953676372\n",
      "11.087145665944512\n",
      "11.065163661786285\n",
      "11.043093085522804\n",
      "11.020935083188972\n",
      "10.998690801517329\n",
      "10.976361386892158\n",
      "10.953947984272512\n",
      "10.93145173608264\n",
      "10.908873781068054\n",
      "10.88621525311546\n",
      "10.863477280034397\n",
      "10.840660982298457\n",
      "10.817767471743512\n",
      "10.794797850220332\n",
      "10.77175320819878\n",
      "10.748634623320346\n",
      "10.725443158895828\n",
      "10.702179862344567\n",
      "10.67884576357158\n",
      "10.655441873278761\n",
      "10.631969181206214\n",
      "10.608428654299875\n",
      "10.584821234801664\n",
      "10.561147838258785\n",
      "10.53740935144934\n",
      "10.513606630222503\n",
      "10.48974049725284\n",
      "10.465811739710658\n",
      "10.441821106853352\n",
      "10.417769307547262\n",
      "10.393657007735824\n",
      "10.36948482787886\n",
      "10.345253340400186\n",
      "10.32096306719833\n",
      "10.29661447729968\n",
      "10.27220798476786\n",
      "10.24774394703176\n",
      "10.223222663863833\n",
      "10.198644377338688\n",
      "10.174009273243902\n",
      "10.149317484620854\n",
      "10.124569098414979\n",
      "10.099764166662387\n",
      "10.074902724311805\n",
      "10.049984816804846\n",
      "10.025010542123555\n",
      "9.999980114514818\n",
      "9.97489396112558\n",
      "9.949752869408501\n",
      "9.924558214351915\n",
      "9.899312314063714\n",
      "9.874018997275531\n",
      "9.848684531838645\n",
      "9.82331919134125\n",
      "9.797940000752474\n",
      "9.772575780015467\n",
      "9.747276968760765\n",
      "9.722136239752002\n",
      "9.69733608705854\n",
      "9.673273311399328\n",
      "9.650941622141573\n",
      "9.633307584525838\n",
      "9.627483237631111\n"
     ]
    }
   ],
   "metadata": {}
  },
  {
   "cell_type": "code",
   "execution_count": 338,
   "source": [
    "pd.Series(longer).plot(figsize=(20,5))"
   ],
   "outputs": [
    {
     "output_type": "execute_result",
     "data": {
      "text/plain": [
       "<AxesSubplot:>"
      ]
     },
     "metadata": {},
     "execution_count": 338
    },
    {
     "output_type": "display_data",
     "data": {
      "image/png": "[encoded data removed]",
      "text/plain": [
       "<Figure size 1440x360 with 1 Axes>"
      ]
     },
     "metadata": {
      "needs_background": "light"
     }
    }
   ],
   "metadata": {}
  },
  {
   "cell_type": "markdown",
   "source": [
    "# Evaluating"
   ],
   "metadata": {}
  },
  {
   "cell_type": "code",
   "execution_count": 343,
   "source": [
    "model['A'][0] = X_test\n",
    "model = forwarding(model)\n",
    "predictions = model['A'][3]\n",
    "print(round((np.where(predictions > 0.5, 1, 0) == Y_test).mean(),4))"
   ],
   "outputs": [
    {
     "output_type": "stream",
     "name": "stdout",
     "text": [
      "0.5814\n"
     ]
    }
   ],
   "metadata": {}
  }
 ],
 "metadata": {
  "orig_nbformat": 4,
  "language_info": {
   "name": "python",
   "version": "3.9.6",
   "mimetype": "text/x-python",
   "codemirror_mode": {
    "name": "ipython",
    "version": 3
   },
   "pygments_lexer": "ipython3",
   "nbconvert_exporter": "python",
   "file_extension": ".py"
  },
  "kernelspec": {
   "name": "python3",
   "display_name": "Python 3.9.6 64-bit"
  },
  "interpreter": {
   "hash": "4cd7ab41f5fca4b9b44701077e38c5ffd31fe66a6cab21e0214b68d958d0e462"
  }
 },
 "nbformat": 4,
 "nbformat_minor": 2
}